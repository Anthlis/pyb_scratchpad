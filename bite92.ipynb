{
  "nbformat": 4,
  "nbformat_minor": 0,
  "metadata": {
    "colab": {
      "name": "bite92.ipynb",
      "provenance": [],
      "authorship_tag": "ABX9TyMV5p0qY5sJ73qJfABVy5l8",
      "include_colab_link": true
    },
    "kernelspec": {
      "name": "python3",
      "display_name": "Python 3"
    }
  },
  "cells": [
    {
      "cell_type": "markdown",
      "metadata": {
        "id": "view-in-github",
        "colab_type": "text"
      },
      "source": [
        "<a href=\"https://colab.research.google.com/github/Anthlis/pyb_scratchpad/blob/master/bite92.ipynb\" target=\"_parent\"><img src=\"https://colab.research.google.com/assets/colab-badge.svg\" alt=\"Open In Colab\"/></a>"
      ]
    },
    {
      "cell_type": "code",
      "metadata": {
        "id": "nS12yRbKL4kD",
        "colab_type": "code",
        "colab": {
          "base_uri": "https://localhost:8080/",
          "height": 357
        },
        "outputId": "72a44104-d21a-4a1e-812b-9818da7c66f1"
      },
      "source": [
        "!pip install pytest pytest-sugar "
      ],
      "execution_count": 6,
      "outputs": [
        {
          "output_type": "stream",
          "text": [
            "Requirement already satisfied: pytest in /usr/local/lib/python3.6/dist-packages (3.6.4)\n",
            "Collecting pytest-sugar\n",
            "  Downloading https://files.pythonhosted.org/packages/5d/ca/0e96605e91dff95ce058a704406701d5ab8f5f3a53e8c800e5186290498c/pytest-sugar-0.9.4.tar.gz\n",
            "Requirement already satisfied: pluggy<0.8,>=0.5 in /usr/local/lib/python3.6/dist-packages (from pytest) (0.7.1)\n",
            "Requirement already satisfied: py>=1.5.0 in /usr/local/lib/python3.6/dist-packages (from pytest) (1.9.0)\n",
            "Requirement already satisfied: atomicwrites>=1.0 in /usr/local/lib/python3.6/dist-packages (from pytest) (1.4.0)\n",
            "Requirement already satisfied: more-itertools>=4.0.0 in /usr/local/lib/python3.6/dist-packages (from pytest) (8.4.0)\n",
            "Requirement already satisfied: setuptools in /usr/local/lib/python3.6/dist-packages (from pytest) (49.1.0)\n",
            "Requirement already satisfied: six>=1.10.0 in /usr/local/lib/python3.6/dist-packages (from pytest) (1.12.0)\n",
            "Requirement already satisfied: attrs>=17.4.0 in /usr/local/lib/python3.6/dist-packages (from pytest) (19.3.0)\n",
            "Requirement already satisfied: termcolor>=1.1.0 in /usr/local/lib/python3.6/dist-packages (from pytest-sugar) (1.1.0)\n",
            "Requirement already satisfied: packaging>=14.1 in /usr/local/lib/python3.6/dist-packages (from pytest-sugar) (20.4)\n",
            "Requirement already satisfied: pyparsing>=2.0.2 in /usr/local/lib/python3.6/dist-packages (from packaging>=14.1->pytest-sugar) (2.4.7)\n",
            "Building wheels for collected packages: pytest-sugar\n",
            "  Building wheel for pytest-sugar (setup.py) ... \u001b[?25l\u001b[?25hdone\n",
            "  Created wheel for pytest-sugar: filename=pytest_sugar-0.9.4-py2.py3-none-any.whl size=8969 sha256=3db8c778f90d8eafbd3e9c300a83f91f48cee2535538d056e23a44f91b34e5cc\n",
            "  Stored in directory: /root/.cache/pip/wheels/72/ac/7f/55050ee786fa4a2bb2d05dea0696eab826ff1d5b8a7dbd5883\n",
            "Successfully built pytest-sugar\n",
            "Installing collected packages: pytest-sugar\n",
            "Successfully installed pytest-sugar-0.9.4\n"
          ],
          "name": "stdout"
        }
      ]
    },
    {
      "cell_type": "code",
      "metadata": {
        "id": "BQH3sHCTLiIj",
        "colab_type": "code",
        "colab": {
          "base_uri": "https://localhost:8080/",
          "height": 34
        },
        "outputId": "0bdd34c0-970f-422a-b33e-f2493dcb496c"
      },
      "source": [
        "%%file test_humanize_date.py\n",
        "\n",
        "from datetime import timedelta\n",
        "\n",
        "import pytest\n",
        "\n",
        "from humanize_date import pretty_date, NOW\n",
        "\n",
        "\n",
        "def n_days_ago_str(days):\n",
        "    return (NOW - timedelta(days=days)).strftime('%m/%d/%y')\n",
        "\n",
        "\n",
        "@pytest.mark.parametrize(\"arg, expected\", [\n",
        "    (NOW - timedelta(seconds=2), 'just now'),\n",
        "    (NOW - timedelta(seconds=9), 'just now'),\n",
        "    (NOW - timedelta(seconds=10), '10 seconds ago'),\n",
        "    (NOW - timedelta(seconds=59), '59 seconds ago'),\n",
        "    (NOW - timedelta(minutes=1), 'a minute ago'),\n",
        "    (NOW - timedelta(minutes=1, seconds=40), 'a minute ago'),\n",
        "    (NOW - timedelta(minutes=2), '2 minutes ago'),\n",
        "    (NOW - timedelta(minutes=59), '59 minutes ago'),\n",
        "    (NOW - timedelta(hours=1), 'an hour ago'),\n",
        "    (NOW - timedelta(hours=2), '2 hours ago'),\n",
        "    (NOW - timedelta(hours=23), '23 hours ago'),\n",
        "    (NOW - timedelta(hours=24), 'yesterday'),\n",
        "    (NOW - timedelta(hours=47), 'yesterday'),\n",
        "    (NOW - timedelta(days=1), 'yesterday'),\n",
        "    (NOW - timedelta(days=2), n_days_ago_str(2)),\n",
        "    (NOW - timedelta(days=7), n_days_ago_str(7)),\n",
        "    (NOW - timedelta(days=100), n_days_ago_str(100)),\n",
        "    (NOW - timedelta(days=365), n_days_ago_str(365)),\n",
        "])\n",
        "def test_pretty_date(arg, expected):\n",
        "    assert pretty_date(arg) == expected\n",
        "\n",
        "\n",
        "def test_input_variable_of_wrong_type():\n",
        "    with pytest.raises(ValueError):\n",
        "        pretty_date(123)\n",
        "\n",
        "\n",
        "def test_input_variable_future_date():\n",
        "    with pytest.raises(ValueError):\n",
        "        pretty_date(NOW + timedelta(days=1))"
      ],
      "execution_count": 1,
      "outputs": [
        {
          "output_type": "stream",
          "text": [
            "Writing test_humanize_date.py\n"
          ],
          "name": "stdout"
        }
      ]
    },
    {
      "cell_type": "code",
      "metadata": {
        "id": "y6jxY2ChBr7_",
        "colab_type": "code",
        "colab": {
          "base_uri": "https://localhost:8080/",
          "height": 34
        },
        "outputId": "9d237c25-b7c0-454f-fcee-e79726ab6d2b"
      },
      "source": [
        "%%file humanize_date.py\n",
        "\n",
        "from collections import namedtuple\n",
        "from datetime import datetime, timedelta\n",
        "\n",
        "TimeOffset = namedtuple('TimeOffset', 'offset date_str divider')\n",
        "\n",
        "NOW = datetime.now()\n",
        "MINUTE, HOUR, DAY = 60, 60*60, 24*60*60\n",
        "TIME_OFFSETS = (\n",
        "    TimeOffset(10, 'just now', None),\n",
        "    TimeOffset(MINUTE, '{} seconds ago', None),\n",
        "    TimeOffset(2*MINUTE, 'a minute ago', None),\n",
        "    TimeOffset(HOUR, '{} minutes ago', MINUTE),\n",
        "    TimeOffset(2*HOUR, 'an hour ago', None),\n",
        "    TimeOffset(DAY, '{} hours ago', HOUR),\n",
        "    TimeOffset(2*DAY, 'yesterday', None),\n",
        ")\n",
        "\n",
        "\n",
        "def pretty_date(date):\n",
        "    \"\"\"Receives a datetime object and converts/returns a readable string\n",
        "       using TIME_OFFSETS\"\"\"\n",
        "    if type(date) is not datetime or date > NOW:\n",
        "        raise ValueError\n",
        "    time_in_seconds = (NOW - date).days * DAY + (NOW - date).seconds\n",
        "    for time in TIME_OFFSETS:\n",
        "        if time_in_seconds < time.offset:\n",
        "            if time.divider == None:\n",
        "                return time.date_str.format(time_in_seconds)\n",
        "            else:\n",
        "                return time.date_str.format(time_in_seconds//time.divider)\n",
        "    return date.strftime('%m/%d/%y')\n",
        "\n",
        "\n",
        "print(pretty_date((NOW - timedelta(seconds=15))))"
      ],
      "execution_count": 6,
      "outputs": [
        {
          "output_type": "stream",
          "text": [
            "Overwriting humanize_date.py\n"
          ],
          "name": "stdout"
        }
      ]
    },
    {
      "cell_type": "code",
      "metadata": {
        "id": "9Bmi3ouY35ua",
        "colab_type": "code",
        "colab": {
          "base_uri": "https://localhost:8080/",
          "height": 34
        },
        "outputId": "b10bc397-2d6d-4853-e623-3d00808fa2e5"
      },
      "source": [
        "!python humanize_date.py"
      ],
      "execution_count": 10,
      "outputs": [
        {
          "output_type": "stream",
          "text": [
            "15 seconds ago\n"
          ],
          "name": "stdout"
        }
      ]
    },
    {
      "cell_type": "code",
      "metadata": {
        "id": "EyN5uTHPMBaW",
        "colab_type": "code",
        "colab": {
          "base_uri": "https://localhost:8080/",
          "height": 510
        },
        "outputId": "d9cc87ba-158a-47bb-e749-ab50b2d704b6"
      },
      "source": [
        "!python -m pytest test_humanize_date.py --verbose"
      ],
      "execution_count": 4,
      "outputs": [
        {
          "output_type": "stream",
          "text": [
            "\u001b[1m============================= test session starts ==============================\u001b[0m\n",
            "platform linux -- Python 3.6.9, pytest-3.6.4, py-1.9.0, pluggy-0.7.1 -- /usr/bin/python3\n",
            "cachedir: .pytest_cache\n",
            "rootdir: /content, inifile:\n",
            "plugins: typeguard-2.7.1\n",
            "\u001b[1m\rcollecting 0 items                                                             \u001b[0m\u001b[1m\rcollecting 20 items                                                            \u001b[0m\u001b[1m\rcollected 20 items                                                             \u001b[0m\n",
            "\n",
            "test_humanize_date.py::test_pretty_date[arg0-just now] \u001b[32mPASSED\u001b[0m\u001b[36m            [  5%]\u001b[0m\n",
            "test_humanize_date.py::test_pretty_date[arg1-just now] \u001b[32mPASSED\u001b[0m\u001b[36m            [ 10%]\u001b[0m\n",
            "test_humanize_date.py::test_pretty_date[arg2-10 seconds ago] \u001b[32mPASSED\u001b[0m\u001b[36m      [ 15%]\u001b[0m\n",
            "test_humanize_date.py::test_pretty_date[arg3-59 seconds ago] \u001b[32mPASSED\u001b[0m\u001b[36m      [ 20%]\u001b[0m\n",
            "test_humanize_date.py::test_pretty_date[arg4-a minute ago] \u001b[32mPASSED\u001b[0m\u001b[36m        [ 25%]\u001b[0m\n",
            "test_humanize_date.py::test_pretty_date[arg5-a minute ago] \u001b[32mPASSED\u001b[0m\u001b[36m        [ 30%]\u001b[0m\n",
            "test_humanize_date.py::test_pretty_date[arg6-2 minutes ago] \u001b[32mPASSED\u001b[0m\u001b[36m       [ 35%]\u001b[0m\n",
            "test_humanize_date.py::test_pretty_date[arg7-59 minutes ago] \u001b[32mPASSED\u001b[0m\u001b[36m      [ 40%]\u001b[0m\n",
            "test_humanize_date.py::test_pretty_date[arg8-an hour ago] \u001b[32mPASSED\u001b[0m\u001b[36m         [ 45%]\u001b[0m\n",
            "test_humanize_date.py::test_pretty_date[arg9-2 hours ago] \u001b[32mPASSED\u001b[0m\u001b[36m         [ 50%]\u001b[0m\n",
            "test_humanize_date.py::test_pretty_date[arg10-23 hours ago] \u001b[32mPASSED\u001b[0m\u001b[36m       [ 55%]\u001b[0m\n",
            "test_humanize_date.py::test_pretty_date[arg11-yesterday] \u001b[32mPASSED\u001b[0m\u001b[36m          [ 60%]\u001b[0m\n",
            "test_humanize_date.py::test_pretty_date[arg12-yesterday] \u001b[32mPASSED\u001b[0m\u001b[36m          [ 65%]\u001b[0m\n",
            "test_humanize_date.py::test_pretty_date[arg13-yesterday] \u001b[32mPASSED\u001b[0m\u001b[36m          [ 70%]\u001b[0m\n",
            "test_humanize_date.py::test_pretty_date[arg14-07/15/20] \u001b[32mPASSED\u001b[0m\u001b[36m           [ 75%]\u001b[0m\n",
            "test_humanize_date.py::test_pretty_date[arg15-07/10/20] \u001b[32mPASSED\u001b[0m\u001b[36m           [ 80%]\u001b[0m\n",
            "test_humanize_date.py::test_pretty_date[arg16-04/08/20] \u001b[32mPASSED\u001b[0m\u001b[36m           [ 85%]\u001b[0m\n",
            "test_humanize_date.py::test_pretty_date[arg17-07/18/19] \u001b[32mPASSED\u001b[0m\u001b[36m           [ 90%]\u001b[0m\n",
            "test_humanize_date.py::test_input_variable_of_wrong_type \u001b[32mPASSED\u001b[0m\u001b[36m          [ 95%]\u001b[0m\n",
            "test_humanize_date.py::test_input_variable_future_date \u001b[32mPASSED\u001b[0m\u001b[36m            [100%]\u001b[0m\n",
            "\n",
            "\u001b[32m\u001b[1m========================== 20 passed in 0.04 seconds ===========================\u001b[0m\n"
          ],
          "name": "stdout"
        }
      ]
    }
  ]
}